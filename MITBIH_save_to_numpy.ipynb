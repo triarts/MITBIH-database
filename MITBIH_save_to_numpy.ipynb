{
 "cells": [
  {
   "cell_type": "markdown",
   "metadata": {},
   "source": [
    "#### source\n",
    "- https://physionet.org/content/mitdb/1.0.0/"
   ]
  },
  {
   "cell_type": "code",
   "execution_count": null,
   "metadata": {},
   "outputs": [],
   "source": [
    "\"\"\"\n",
    "Save MITBIH dataset into numpy format\n",
    "will generate 3 files\n",
    "1. metadata\n",
    "2. samples ( contain 'n' channel => mostly only 2 channel )\n",
    "3. annotation\n",
    "\"\"\""
   ]
  },
  {
   "cell_type": "code",
   "execution_count": 2,
   "metadata": {},
   "outputs": [],
   "source": [
    "import os\n",
    "import wfdb as wf\n",
    "import numpy as np\n",
    "import pandas as pd\n",
    "from glob import glob\n",
    "from scipy import signal as ss\n",
    "from matplotlib import pyplot as plt\n",
    "from biosppy.signals import ecg"
   ]
  },
  {
   "cell_type": "code",
   "execution_count": 4,
   "metadata": {},
   "outputs": [],
   "source": [
    "def get_records():\n",
    "    \"\"\" Get paths for data in data/mit/ directory \"\"\"\n",
    "    # There are 3 files for each record\n",
    "    # *.atr is one of them\n",
    "    path_source = 'C:/Users/mbl-mavoly/py/ECGsignal/mitdb/*.atr'\n",
    "    paths = glob(path_source)\n",
    "\n",
    "    # Get rid of the extension\n",
    "    paths = [path[:-4] for path in paths]\n",
    "    paths.sort()\n",
    "\n",
    "    return paths"
   ]
  },
  {
   "cell_type": "code",
   "execution_count": 12,
   "metadata": {},
   "outputs": [
    {
     "name": "stdout",
     "output_type": "stream",
     "text": [
      "create new folder mitdb_numpy/\n"
     ]
    }
   ],
   "source": [
    "#define save path\n",
    "savePath = \"mitdb_numpy/\"\n",
    "\n",
    "#cerate directtory savepath\n",
    "if not os.path.exists(savePath):\n",
    "    print(\"create new folder \"+savePath)\n",
    "    os.makedirs(savePath)\n",
    "else:\n",
    "    print(savePath+\" already created\")"
   ]
  },
  {
   "cell_type": "code",
   "execution_count": 14,
   "metadata": {
    "scrolled": true
   },
   "outputs": [
    {
     "name": "stdout",
     "output_type": "stream",
     "text": [
      "100 saved\n",
      "101 saved\n",
      "102 saved\n",
      "103 saved\n",
      "104 saved\n",
      "105 saved\n",
      "106 saved\n",
      "107 saved\n",
      "108 saved\n",
      "109 saved\n",
      "111 saved\n",
      "112 saved\n",
      "113 saved\n",
      "114 saved\n",
      "115 saved\n",
      "116 saved\n",
      "117 saved\n",
      "118 saved\n",
      "119 saved\n",
      "121 saved\n",
      "122 saved\n",
      "123 saved\n",
      "124 saved\n",
      "200 saved\n",
      "201 saved\n",
      "202 saved\n",
      "203 saved\n",
      "205 saved\n",
      "207 saved\n",
      "208 saved\n",
      "209 saved\n",
      "210 saved\n",
      "212 saved\n",
      "213 saved\n",
      "214 saved\n",
      "215 saved\n",
      "217 saved\n",
      "219 saved\n",
      "220 saved\n",
      "221 saved\n",
      "222 saved\n",
      "223 saved\n",
      "228 saved\n",
      "230 saved\n",
      "231 saved\n",
      "232 saved\n",
      "233 saved\n",
      "234 saved\n"
     ]
    }
   ],
   "source": [
    "# load path data\n",
    "records = get_records()\n",
    "\n",
    "for i,path in enumerate(records): \n",
    "    \n",
    "    ptn_id = path[-3:]\n",
    "    \n",
    "    \"\"\"\n",
    "    # read both (.dat) and (.hea)\n",
    "    record = wf.rdsamp(path) \n",
    "\n",
    "    # read only (.atr)\n",
    "    annotation = wf.rdann(path, 'atr') \n",
    "    \"\"\"\n",
    "    \n",
    "    record = wf.rdsamp(path)\n",
    "    annotation = wf.rdann(path, 'atr')\n",
    "    \n",
    "    \n",
    "#     print(np.transpose(record[0])) # samples\n",
    "#     print(record[1]) # metadata\n",
    "#     print(annotation)\n",
    "    \n",
    "    np.save(savePath+str(ptn_id)+\"_samples.npy\",np.transpose(record[0]))\n",
    "    np.save(savePath+str(ptn_id)+\"_metadata.npy\",record[1])\n",
    "    np.save(savePath+str(ptn_id)+\"_annotation.npy\",annotation)\n",
    "    print(str(ptn_id)+\" saved\")\n",
    "    \n"
   ]
  },
  {
   "cell_type": "code",
   "execution_count": null,
   "metadata": {},
   "outputs": [],
   "source": []
  }
 ],
 "metadata": {
  "kernelspec": {
   "display_name": "Python 3",
   "language": "python",
   "name": "python3"
  },
  "language_info": {
   "codemirror_mode": {
    "name": "ipython",
    "version": 3
   },
   "file_extension": ".py",
   "mimetype": "text/x-python",
   "name": "python",
   "nbconvert_exporter": "python",
   "pygments_lexer": "ipython3",
   "version": "3.7.7"
  }
 },
 "nbformat": 4,
 "nbformat_minor": 2
}
